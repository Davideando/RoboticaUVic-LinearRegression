{
 "metadata": {
  "name": "",
  "signature": "sha256:ce9f2d2f2897a53f5f160b846a9b22fc90ee4aabd4bb445e93c18c2f4c5ba121"
 },
 "nbformat": 3,
 "nbformat_minor": 0,
 "worksheets": [
  {
   "cells": [
    {
     "cell_type": "code",
     "collapsed": false,
     "input": [
      "import numpy as np\n",
      "data = np.array([map(float, l.split()) for l in open('data.txt')])\n",
      "y = data[:,-1]\n",
      "print 'Data points', len(y)\n",
      "print y.T"
     ],
     "language": "python",
     "metadata": {},
     "outputs": []
    },
    {
     "cell_type": "code",
     "collapsed": false,
     "input": [
      "# First define some handy shortcuts \n",
      "dot = np.dot\n",
      "inv = np.linalg.inv\n",
      "# Dummy features\n",
      "X = np.ones((28,1))\n",
      "# Fitting the parameters: theta = (X'*X)^-1*X'*y\n",
      "theta = dot(dot(inv(dot(X.T, X)), X.T), y)\n",
      "print theta"
     ],
     "language": "python",
     "metadata": {},
     "outputs": []
    },
    {
     "cell_type": "code",
     "collapsed": false,
     "input": [
      "# MSE = (1/N)*sum((y-X*theta)^2) \n",
      "print sum((y-dot(X, theta))**2) / len(y)"
     ],
     "language": "python",
     "metadata": {},
     "outputs": []
    },
    {
     "cell_type": "code",
     "collapsed": false,
     "input": [
      "!head -n 33 x26.txt|tail -n 12"
     ],
     "language": "python",
     "metadata": {},
     "outputs": []
    },
    {
     "cell_type": "code",
     "collapsed": false,
     "input": [
      "# Let's add a continuous variable, like the area of the house\n",
      "X = np.hstack((X, data[:,2].reshape(len(y),1)))\n",
      "print X.shape"
     ],
     "language": "python",
     "metadata": {},
     "outputs": []
    },
    {
     "cell_type": "code",
     "collapsed": false,
     "input": [
      "from scipy.linalg import lstsq\n",
      "theta = lstsq(X,y)[0]\n",
      "print sum((y-dot(X, theta))**2) / len(y)"
     ],
     "language": "python",
     "metadata": {},
     "outputs": []
    },
    {
     "cell_type": "code",
     "collapsed": false,
     "input": [
      "# Let's add the number of garages as anoher variable\n",
      "X = np.hstack((X, data[:,4].reshape(len(y),1)))\n",
      "theta = lstsq(X,y)[0]\n",
      "print sum((y-dot(X, theta))**2) / len(y)"
     ],
     "language": "python",
     "metadata": {},
     "outputs": []
    },
    {
     "cell_type": "code",
     "collapsed": false,
     "input": [
      "#To add a categorical variable, like \"construction type\" we have to decide how to represent it. Two options: \n",
      "# 1) Giving a value to every category choice (1, 2, 3, ...).\n",
      "# 2) Using an indicator vector, with a zero for each dimension, except for the active that is one.\n",
      "X1 = np.hstack((X, data[:,8].reshape(len(y),1)))\n",
      "ind = np.zeros((len(y), max(data[:,8])))\n",
      "ind[range(0,len(y)), (data[:,8]-1).astype(np.int32)]=1\n",
      "X2 = np.hstack((X, ind))\n",
      "print 'Representation 1,2,3,4,...', '\\n', X1\n",
      "print 'Representation [0,1,0,0]', '\\n', X2"
     ],
     "language": "python",
     "metadata": {},
     "outputs": []
    },
    {
     "cell_type": "code",
     "collapsed": false,
     "input": [
      "theta = lstsq(X1,y)[0]\n",
      "print 'Representation 1,2,3,...', sum((y-dot(X1, theta))**2) / len(y)\n",
      "theta = lstsq(X2,y)[0]\n",
      "print 'Representation [0,1,0,0]', sum((y-dot(X2, theta))**2) / len(y)\n",
      "# Just one word of caution with indicator vectors: if we use more dimensions \n",
      "# than we should, we may end up with a low-rank matrix that we can't invert!"
     ],
     "language": "python",
     "metadata": {},
     "outputs": []
    },
    {
     "cell_type": "code",
     "collapsed": false,
     "input": [
      "print 'Back to the slides...'"
     ],
     "language": "python",
     "metadata": {},
     "outputs": []
    },
    {
     "cell_type": "code",
     "collapsed": false,
     "input": [
      "R = np.hstack((np.ones((len(y),1)), np.random.random((len(y), 30))))\n",
      "theta = lstsq(R,y)[0]\n",
      "print 'Random', sum((y-dot(R, theta))**2) / len(y)"
     ],
     "language": "python",
     "metadata": {},
     "outputs": []
    },
    {
     "cell_type": "code",
     "collapsed": false,
     "input": [],
     "language": "python",
     "metadata": {},
     "outputs": []
    }
   ],
   "metadata": {}
  }
 ]
}